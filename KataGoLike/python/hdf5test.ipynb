{
 "cells": [
  {
   "cell_type": "code",
   "execution_count": 1,
   "metadata": {},
   "outputs": [],
   "source": [
    "import h5py\n",
    "import numpy as np\n",
    "import torch\n",
    "import torch.utils.data as data\n",
    "from d2lLike import *\n",
    "from tqdm import tqdm\n",
    "from net import policyNet"
   ]
  },
  {
   "cell_type": "code",
   "execution_count": 2,
   "metadata": {},
   "outputs": [],
   "source": [
    "class GoDataSet(data.Dataset):\n",
    "    def __init__(self, filename):\n",
    "        with h5py.File(filename, 'r', libver=\"latest\", swmr=True) as f:\n",
    "            self.inputList = f[\"input\"][:]\n",
    "            self.labelList = f[\"output\"][:]\n",
    "\n",
    "    def __getitem__(self, idx):\n",
    "        flag = idx // len(self.labelList)\n",
    "        idx = idx % len(self.labelList)\n",
    "        if flag == 0:                            #不变化\n",
    "            matrix = torch.from_numpy(self.inputList[idx]).to(torch.float32)\n",
    "            label = torch.from_numpy(self.labelList[idx]).to(torch.float32)\n",
    "            return matrix, label\n",
    "        elif flag == 1:                          #左右翻转                                                      \n",
    "            matrix = torch.from_numpy(self.inputList[idx]).flip(-1).to(torch.float32)\n",
    "            label = torch.from_numpy(self.labelList[idx]).to(torch.float32)\n",
    "            label[0:25] = label[0:25].reshape(5,5).flip(-1).reshape(25)\n",
    "            return matrix, label\n",
    "        elif flag == 2:                          #上下翻转\n",
    "            matrix = torch.from_numpy(self.inputList[idx]).flip(-2).to(torch.float32)\n",
    "            label = torch.from_numpy(self.labelList[idx]).to(torch.float32)\n",
    "            label[0:25] = label[0:25].reshape(5,5).flip(-2).reshape(25)\n",
    "            return matrix, label\n",
    "        elif flag == 3:                          #旋转180度\n",
    "            matrix = torch.from_numpy(self.inputList[idx]).flip(-1,-2).to(torch.float32)\n",
    "            label = torch.from_numpy(self.labelList[idx]).to(torch.float32)\n",
    "            label[0:25] = label[0:25].reshape(5,5).flip(-1,-2).reshape(25)\n",
    "            return matrix, label\n",
    "        elif flag == 4:                         #顺时针旋转90度\n",
    "            matrix = torch.from_numpy(self.inputList[idx]).permute(0,2,1).flip(-1).to(torch.float32)\n",
    "            label = torch.from_numpy(self.labelList[idx]).to(torch.float32)\n",
    "            label[0:25] = label[0:25].reshape(5,5).t().flip(-1).reshape(25)\n",
    "            return matrix, label\n",
    "        elif flag == 5:                         #逆时针旋转90度\n",
    "            matrix = torch.from_numpy(self.inputList[idx]).permute(0,2,1).flip(-2).to(torch.float32)\n",
    "            label = torch.from_numpy(self.labelList[idx]).to(torch.float32)\n",
    "            label[0:25] = label[0:25].reshape(5,5).t().flip(-2).reshape(25)\n",
    "            return matrix, label\n",
    "        elif flag == 6:                         #沿着反对角线翻转\n",
    "            matrix = torch.from_numpy(self.inputList[idx]).permute(0,2,1).flip(-1, -2).to(torch.float32)\n",
    "            label = torch.from_numpy(self.labelList[idx]).to(torch.float32)\n",
    "            label[0:25] = label[0:25].reshape(5,5).t().flip(-1, -2).reshape(25)\n",
    "            return matrix, label\n",
    "        elif flag == 7:                         #沿着对角线翻转\n",
    "            matrix = torch.from_numpy(self.inputList[idx]).permute(0,-1, -2).to(torch.float32)\n",
    "            label = torch.from_numpy(self.labelList[idx]).to(torch.float32)\n",
    "            label[0:25] = label[0:25].reshape(5,5).t().reshape(25)\n",
    "            return matrix, label\n",
    "    \n",
    "    def __len__(self):\n",
    "        return len(self.labelList) * 8\n",
    "\n",
    "def train_Adam(net, train_iter, num_epochs, weight_decay, device, isPrint = True):\n",
    "    def init_weights(m):\n",
    "        if type(m) == nn.Linear or type(m) == nn.Conv2d:\n",
    "            nn.init.xavier_uniform_(m.weight)\n",
    "    net.apply(init_weights)\n",
    "    print('training on', device)\n",
    "    net.to(device)\n",
    "    optimizer = torch.optim.Adam(net.parameters(), weight_decay = weight_decay)\n",
    "    loss = nn.CrossEntropyLoss()\n",
    "    if isPrint:\n",
    "        animator = Animator(xlabel='epoch', xlim=[0, num_epochs],\n",
    "                            legend=['train loss'])\n",
    "    timer, num_batches = Timer(), len(train_iter)\n",
    "    numIter = range(num_epochs) if isPrint else tqdm(range(num_epochs))\n",
    "    for epoch in numIter:\n",
    "        # 训练损失之和，训练准确率之和，样本数\n",
    "        metric = Accumulator(2)\n",
    "        net.train()\n",
    "        for i, (X, y) in enumerate(train_iter):\n",
    "            timer.start()\n",
    "            optimizer.zero_grad()\n",
    "            X, y = X.to(device), y.to(device)\n",
    "            y_hat = net(X)\n",
    "            l = loss(y_hat, y)\n",
    "            l.backward()\n",
    "            optimizer.step()\n",
    "            with torch.no_grad():\n",
    "                metric.add(l * X.shape[0], X.shape[0])\n",
    "            timer.stop()\n",
    "            train_l = metric[0] / metric[1]\n",
    "            if isPrint:\n",
    "                if (i + 1) % (num_batches // 5) == 0 or i == num_batches - 1:\n",
    "                    animator.add(epoch + (i + 1) / num_batches, [train_l])\n",
    "    print(f'loss {train_l:.3f}')\n",
    "    print(f'{metric[1] * num_epochs / timer.sum():.1f} examples/sec '\n",
    "          f'on {str(device)}')\n",
    "    return train_l"
   ]
  },
  {
   "cell_type": "code",
   "execution_count": 3,
   "metadata": {},
   "outputs": [],
   "source": [
    "dataset = GoDataSet(\"/home/xuyisen/project/Go_game/KataGoLike/data/trainingData.hdf5\")\n",
    "data_iter = data.DataLoader(dataset, batch_size=32784, shuffle=True, num_workers=4)\n",
    "net = policyNet()"
   ]
  },
  {
   "cell_type": "code",
   "execution_count": 4,
   "metadata": {},
   "outputs": [
    {
     "name": "stdout",
     "output_type": "stream",
     "text": [
      "loss 1.936\n",
      "202726.8 examples/sec on cuda:0\n"
     ]
    },
    {
     "data": {
      "text/plain": [
       "1.93644218359375"
      ]
     },
     "execution_count": 4,
     "metadata": {},
     "output_type": "execute_result"
    },
    {
     "data": {
      "image/png": "[encoded data removed]",
      "text/plain": [
       "<Figure size 640x480 with 1 Axes>"
      ]
     },
     "metadata": {},
     "output_type": "display_data"
    }
   ],
   "source": [
    "train_Adam(net, data_iter, 20, 0.001, torch.device('cuda:0'))"
   ]
  },
  {
   "cell_type": "code",
   "execution_count": 5,
   "metadata": {},
   "outputs": [],
   "source": [
    "import onnx\n",
    "import torch\n",
    "import torch.nn as nn\n",
    "import onnxoptimizer\n",
    "\n",
    "fileName = \"model9_1.onnx\"\n",
    "\n",
    "net.to(\"cpu\")\n",
    "net.output.append(nn.Softmax(dim=1))\n",
    "\n",
    "net.eval()\n",
    "x = torch.randn(1,5,5,5)\n",
    "torch.set_default_dtype(torch.float32)\n",
    "torch.onnx.export(net, x, fileName, input_names=['gameBoard'],output_names=['policy'],\n",
    "                dynamic_axes={'gameBoard':{0:\"batch\"},'policy':{0:\"batch\"}})\n",
    "\n",
    "model = onnx.load(fileName) # load the onnx model\n",
    "onnx.checker.check_model(model)         # check the onnx model\n",
    "model = onnxoptimizer.optimize(model)\n",
    "onnx.checker.check_model(model)\n",
    "onnx.save(model, fileName)"
   ]
  },
  {
   "cell_type": "code",
   "execution_count": 6,
   "metadata": {},
   "outputs": [],
   "source": [
    "import onnxruntime\n",
    "import numpy as np\n",
    "\n",
    "sess = onnxruntime.InferenceSession(fileName, providers=['CPUExecutionProvider'])\n",
    "x = np.zeros((1,5,5,5), dtype=np.float32)\n",
    "x[0][4] = 1\n",
    "\n",
    "output = sess.run(['policy'], {'gameBoard':x})[0][0]"
   ]
  },
  {
   "cell_type": "code",
   "execution_count": 7,
   "metadata": {},
   "outputs": [
    {
     "data": {
      "text/plain": [
       "(array([[2.13124258e-05, 3.82917688e-06, 3.07925620e-05, 6.51063056e-06,\n",
       "         4.77035064e-05],\n",
       "        [1.24636335e-05, 3.45931512e-05, 3.80936079e-04, 1.62857075e-04,\n",
       "         5.32497734e-06],\n",
       "        [6.10321040e-05, 2.25681768e-04, 9.98203516e-01, 3.94588220e-04,\n",
       "         5.27556040e-05],\n",
       "        [1.28789088e-05, 7.09616188e-06, 1.85867873e-04, 1.60340842e-05,\n",
       "         1.64059020e-05],\n",
       "        [6.92020694e-06, 3.40052475e-06, 6.28543930e-05, 2.69751217e-06,\n",
       "         1.28030561e-05]], dtype=float32),\n",
       " 2.919329e-05)"
      ]
     },
     "execution_count": 7,
     "metadata": {},
     "output_type": "execute_result"
    }
   ],
   "source": [
    "output[0:25].reshape(5,5),output[25]"
   ]
  },
  {
   "cell_type": "code",
   "execution_count": 9,
   "metadata": {},
   "outputs": [
    {
     "data": {
      "text/plain": [
       "0.9982035"
      ]
     },
     "execution_count": 9,
     "metadata": {},
     "output_type": "execute_result"
    }
   ],
   "source": [
    "output[12]"
   ]
  }
 ],
 "metadata": {
  "kernelspec": {
   "display_name": "deepL",
   "language": "python",
   "name": "python3"
  },
  "language_info": {
   "codemirror_mode": {
    "name": "ipython",
    "version": 3
   },
   "file_extension": ".py",
   "mimetype": "text/x-python",
   "name": "python",
   "nbconvert_exporter": "python",
   "pygments_lexer": "ipython3",
   "version": "3.10.13"
  }
 },
 "nbformat": 4,
 "nbformat_minor": 2
}
