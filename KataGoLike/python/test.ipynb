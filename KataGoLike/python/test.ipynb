{
 "cells": [
  {
   "cell_type": "code",
   "execution_count": 1,
   "metadata": {},
   "outputs": [],
   "source": [
    "from net import policyNet\n",
    "import torchinfo"
   ]
  },
  {
   "cell_type": "code",
   "execution_count": 2,
   "metadata": {},
   "outputs": [
    {
     "data": {
      "text/plain": [
       "===============================================================================================\n",
       "Layer (type:depth-idx)                        Output Shape              Param #\n",
       "===============================================================================================\n",
       "policyNet                                     [512, 26]                 --\n",
       "├─Sequential: 1-1                             [512, 64, 5, 5]           --\n",
       "│    └─Conv2d: 2-1                            [512, 64, 5, 5]           2,944\n",
       "│    └─ReLU: 2-2                              [512, 64, 5, 5]           --\n",
       "├─BasicBlock: 1-2                             [512, 64, 5, 5]           --\n",
       "│    └─Sequential: 2-3                        [512, 64, 5, 5]           --\n",
       "│    │    └─BN_Conv2d: 3-1                    [512, 64, 5, 5]           36,992\n",
       "│    │    └─BN_Conv2d: 3-2                    [512, 64, 5, 5]           36,992\n",
       "│    └─Identity: 2-4                          [512, 64, 5, 5]           --\n",
       "├─BasicBlock: 1-3                             [512, 64, 5, 5]           --\n",
       "│    └─Sequential: 2-5                        [512, 64, 5, 5]           --\n",
       "│    │    └─BN_Conv2d: 3-3                    [512, 64, 5, 5]           36,992\n",
       "│    │    └─BN_Conv2d: 3-4                    [512, 64, 5, 5]           36,992\n",
       "│    └─Identity: 2-6                          [512, 64, 5, 5]           --\n",
       "├─BasicBlock: 1-4                             [512, 1, 5, 5]            --\n",
       "│    └─Sequential: 2-7                        [512, 1, 5, 5]            --\n",
       "│    │    └─BN_Conv2d: 3-5                    [512, 1, 5, 5]            578\n",
       "│    │    └─BN_Conv2d: 3-6                    [512, 1, 5, 5]            11\n",
       "│    └─Sequential: 2-8                        [512, 1, 5, 5]            --\n",
       "│    │    └─Conv2d: 3-7                       [512, 1, 5, 5]            64\n",
       "│    │    └─MaxPool2d: 3-8                    [512, 1, 5, 5]            --\n",
       "│    │    └─BatchNorm2d: 3-9                  [512, 1, 5, 5]            2\n",
       "├─Sequential: 1-5                             [512, 26]                 --\n",
       "│    └─Flatten: 2-9                           [512, 25]                 --\n",
       "│    └─Linear: 2-10                           [512, 128]                3,328\n",
       "│    └─ReLU: 2-11                             [512, 128]                --\n",
       "│    └─Linear: 2-12                           [512, 26]                 3,354\n",
       "===============================================================================================\n",
       "Total params: 158,249\n",
       "Trainable params: 158,249\n",
       "Non-trainable params: 0\n",
       "Total mult-adds (G): 1.94\n",
       "===============================================================================================\n",
       "Input size (MB): 0.26\n",
       "Forward/backward pass size (MB): 60.23\n",
       "Params size (MB): 0.63\n",
       "Estimated Total Size (MB): 61.12\n",
       "==============================================================================================="
      ]
     },
     "execution_count": 2,
     "metadata": {},
     "output_type": "execute_result"
    }
   ],
   "source": [
    "pNet = policyNet()\n",
    "torchinfo.summary(pNet, input_size=(512, 5, 5, 5))"
   ]
  },
  {
   "cell_type": "code",
   "execution_count": 3,
   "metadata": {},
   "outputs": [],
   "source": [
    "import onnx\n",
    "import torch\n",
    "import torch.nn as nn\n",
    "import onnxoptimizer"
   ]
  },
  {
   "cell_type": "code",
   "execution_count": 4,
   "metadata": {},
   "outputs": [],
   "source": [
    "pNet = policyNet()\n",
    "def init_weights(m):\n",
    "        if type(m) == nn.Linear or type(m) == nn.Conv2d:\n",
    "            nn.init.xavier_uniform_(m.weight)\n",
    "pNet.apply(init_weights)\n",
    "pNet.output.append(nn.Softmax(dim=1))\n",
    "\n",
    "pNet.eval()\n",
    "x = torch.randn(1,5,5,5)\n",
    "torch.set_default_dtype(torch.float32)\n",
    "torch.onnx.export(pNet, x, 'model.onnx', input_names=['gameBoard'],output_names=['policy'],\n",
    "                dynamic_axes={'gameBoard':{0:\"batch\"},'policy':{0:\"batch\"}})\n",
    "\n",
    "model = onnx.load('model.onnx') # load the onnx model\n",
    "onnx.checker.check_model(model)         # check the onnx model\n",
    "model = onnxoptimizer.optimize(model)\n",
    "onnx.checker.check_model(model)\n",
    "onnx.save(model, 'model.onnx')"
   ]
  },
  {
   "cell_type": "code",
   "execution_count": null,
   "metadata": {},
   "outputs": [],
   "source": []
  }
 ],
 "metadata": {
  "kernelspec": {
   "display_name": "deepL",
   "language": "python",
   "name": "python3"
  },
  "language_info": {
   "codemirror_mode": {
    "name": "ipython",
    "version": 3
   },
   "file_extension": ".py",
   "mimetype": "text/x-python",
   "name": "python",
   "nbconvert_exporter": "python",
   "pygments_lexer": "ipython3",
   "version": "3.10.13"
  }
 },
 "nbformat": 4,
 "nbformat_minor": 2
}
